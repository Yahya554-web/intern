{
 "cells": [
  {
   "cell_type": "code",
   "execution_count": 7,
   "id": "74b86c5c-0371-48d1-a930-8cd6f3e6b32d",
   "metadata": {},
   "outputs": [
    {
     "name": "stdout",
     "output_type": "stream",
     "text": [
      "✅ Accuracy: 0.9545893719806763\n",
      "\n",
      "📊 Confusion Matrix:\n",
      " [[704  35]\n",
      " [ 12 284]]\n",
      "\n",
      "📄 Classification Report:\n",
      "               precision    recall  f1-score   support\n",
      "\n",
      "           0       0.98      0.95      0.97       739\n",
      "           1       0.89      0.96      0.92       296\n",
      "\n",
      "    accuracy                           0.95      1035\n",
      "   macro avg       0.94      0.96      0.95      1035\n",
      "weighted avg       0.96      0.95      0.96      1035\n",
      "\n"
     ]
    }
   ],
   "source": [
    "# ============================\n",
    "# 1. Import Required Libraries\n",
    "# ============================\n",
    "import pandas as pd\n",
    "from sklearn.model_selection import train_test_split\n",
    "from sklearn.naive_bayes import MultinomialNB\n",
    "from sklearn.metrics import accuracy_score, classification_report, confusion_matrix\n",
    "from scipy.sparse import csr_matrix\n",
    "\n",
    "# ============================\n",
    "# 2. Load and Prepare Dataset\n",
    "# ============================\n",
    "df = pd.read_csv(\"emails.csv\")  # Use full path if needed\n",
    "df = df.drop(columns=[\"Email No.\"])  # Drop ID column\n",
    "\n",
    "# Split features and target\n",
    "X = df.drop(columns=[\"Prediction\"])  # All columns except label\n",
    "y = df[\"Prediction\"]  # Target label\n",
    "\n",
    "# Convert to sparse matrix to save memory\n",
    "X_sparse = csr_matrix(X.values)\n",
    "\n",
    "# ============================\n",
    "# 3. Train/Test Split\n",
    "# ============================\n",
    "X_train, X_test, y_train, y_test = train_test_split(\n",
    "    X_sparse, y, test_size=0.2, random_state=42\n",
    ")\n",
    "\n",
    "# ============================\n",
    "# 4. Train Naive Bayes Model\n",
    "# ============================\n",
    "model = MultinomialNB()\n",
    "model.fit(X_train, y_train)\n",
    "\n",
    "# ============================\n",
    "# 5. Evaluate Model\n",
    "# ============================\n",
    "y_pred = model.predict(X_test)\n",
    "\n",
    "print(\"✅ Accuracy:\", accuracy_score(y_test, y_pred))\n",
    "print(\"\\n📊 Confusion Matrix:\\n\", confusion_matrix(y_test, y_pred))\n",
    "print(\"\\n📄 Classification Report:\\n\", classification_report(y_test, y_pred))\n"
   ]
  },
  {
   "cell_type": "code",
   "execution_count": null,
   "id": "2fb2e3d6-c1bd-4845-b74c-e1fec5004445",
   "metadata": {},
   "outputs": [],
   "source": []
  }
 ],
 "metadata": {
  "kernelspec": {
   "display_name": "Python [conda env:base] *",
   "language": "python",
   "name": "conda-base-py"
  },
  "language_info": {
   "codemirror_mode": {
    "name": "ipython",
    "version": 3
   },
   "file_extension": ".py",
   "mimetype": "text/x-python",
   "name": "python",
   "nbconvert_exporter": "python",
   "pygments_lexer": "ipython3",
   "version": "3.12.7"
  }
 },
 "nbformat": 4,
 "nbformat_minor": 5
}
